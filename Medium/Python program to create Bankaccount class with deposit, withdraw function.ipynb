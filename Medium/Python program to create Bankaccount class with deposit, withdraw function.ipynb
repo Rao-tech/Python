{
 "cells": [
  {
   "cell_type": "markdown",
   "id": "4f22ecc5",
   "metadata": {},
   "source": [
    "### Python program to create Bankaccount class with deposit, withdraw methods"
   ]
  },
  {
   "cell_type": "code",
   "execution_count": 2,
   "id": "cde46df2",
   "metadata": {},
   "outputs": [],
   "source": [
    "class Bankaccount:\n",
    "    def __init__(self):\n",
    "        self.balance = 0\n",
    "        \n",
    "    #Deposit method\n",
    "    def deposit(self):\n",
    "        amount = float(input(\"Enter the amount to be deposit:\"))\n",
    "        self.balance += amount\n",
    "        print(\"\\nAmount deposited:\", amount)\n",
    "    #withdraw\n",
    "    def withdraw(self):\n",
    "        amount = float(input(\"Enter the amount to withdraw:\"))\n",
    "        if self.balance >= amount:\n",
    "            self.balance -= amount\n",
    "            print(\"\\nWithdrawed amount:\", amount)\n",
    "        else:\n",
    "            print(\"Insufficient balance\")\n",
    "    def Bal(self):\n",
    "        print(\"Available balance amount:\", self.balance)"
   ]
  },
  {
   "cell_type": "code",
   "execution_count": 3,
   "id": "1cd18185",
   "metadata": {},
   "outputs": [],
   "source": [
    "a = Bankaccount()"
   ]
  },
  {
   "cell_type": "code",
   "execution_count": 4,
   "id": "6d850635",
   "metadata": {},
   "outputs": [
    {
     "name": "stdout",
     "output_type": "stream",
     "text": [
      "Enter the amount to be deposit:1000\n",
      "\n",
      "Amount deposited: 1000.0\n",
      "Enter the amount to withdraw:15000\n",
      "Insufficient balance\n",
      "Available balance amount: 1000.0\n"
     ]
    }
   ],
   "source": [
    "a.deposit()\n",
    "a.withdraw()\n",
    "a.Bal()"
   ]
  },
  {
   "cell_type": "code",
   "execution_count": null,
   "id": "72f3c5a6",
   "metadata": {},
   "outputs": [],
   "source": []
  },
  {
   "cell_type": "code",
   "execution_count": null,
   "id": "ee01a33f",
   "metadata": {},
   "outputs": [],
   "source": []
  }
 ],
 "metadata": {
  "kernelspec": {
   "display_name": "Python 3",
   "language": "python",
   "name": "python3"
  },
  "language_info": {
   "codemirror_mode": {
    "name": "ipython",
    "version": 3
   },
   "file_extension": ".py",
   "mimetype": "text/x-python",
   "name": "python",
   "nbconvert_exporter": "python",
   "pygments_lexer": "ipython3",
   "version": "3.7.10"
  }
 },
 "nbformat": 4,
 "nbformat_minor": 5
}
