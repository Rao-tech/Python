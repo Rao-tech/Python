{
 "cells": [
  {
   "cell_type": "code",
   "execution_count": 3,
   "id": "5227ef99",
   "metadata": {},
   "outputs": [],
   "source": [
    "import numpy as np\n",
    "import pandas as pd"
   ]
  },
  {
   "cell_type": "code",
   "execution_count": 4,
   "id": "edad4776",
   "metadata": {},
   "outputs": [],
   "source": [
    "df = pd.read_csv('churn.csv')"
   ]
  },
  {
   "cell_type": "code",
   "execution_count": 5,
   "id": "39c092b6",
   "metadata": {},
   "outputs": [
    {
     "data": {
      "text/plain": [
       "(10000, 14)"
      ]
     },
     "execution_count": 5,
     "metadata": {},
     "output_type": "execute_result"
    }
   ],
   "source": [
    "df.shape"
   ]
  },
  {
   "cell_type": "code",
   "execution_count": 6,
   "id": "2ca81fa3",
   "metadata": {},
   "outputs": [
    {
     "data": {
      "text/plain": [
       "Index(['RowNumber', 'CustomerId', 'Surname', 'CreditScore', 'Geography',\n",
       "       'Gender', 'Age', 'Tenure', 'Balance', 'NumOfProducts', 'HasCrCard',\n",
       "       'IsActiveMember', 'EstimatedSalary', 'Exited'],\n",
       "      dtype='object')"
      ]
     },
     "execution_count": 6,
     "metadata": {},
     "output_type": "execute_result"
    }
   ],
   "source": [
    "df.columns"
   ]
  },
  {
   "cell_type": "markdown",
   "id": "d7b57ce7",
   "metadata": {},
   "source": [
    "### 1.Dropping columns"
   ]
  },
  {
   "cell_type": "code",
   "execution_count": 7,
   "id": "6f4c3be7",
   "metadata": {},
   "outputs": [],
   "source": [
    "df.drop(['RowNumber', 'CustomerId', 'Surname', 'CreditScore'], axis=1, inplace = True)"
   ]
  },
  {
   "cell_type": "code",
   "execution_count": 8,
   "id": "395d714e",
   "metadata": {},
   "outputs": [
    {
     "data": {
      "text/plain": [
       "(10000, 10)"
      ]
     },
     "execution_count": 8,
     "metadata": {},
     "output_type": "execute_result"
    }
   ],
   "source": [
    "df.shape"
   ]
  },
  {
   "cell_type": "markdown",
   "id": "cd789e70",
   "metadata": {},
   "source": [
    "### 2.Select particular columns while reading "
   ]
  },
  {
   "cell_type": "code",
   "execution_count": 9,
   "id": "59719b1a",
   "metadata": {},
   "outputs": [],
   "source": [
    "df_specific = pd.read_csv('churn.csv', usecols=['Gender', 'Age', 'Tenure', 'Balance'])"
   ]
  },
  {
   "cell_type": "code",
   "execution_count": 10,
   "id": "f8c907da",
   "metadata": {},
   "outputs": [
    {
     "data": {
      "text/html": [
       "<div>\n",
       "<style scoped>\n",
       "    .dataframe tbody tr th:only-of-type {\n",
       "        vertical-align: middle;\n",
       "    }\n",
       "\n",
       "    .dataframe tbody tr th {\n",
       "        vertical-align: top;\n",
       "    }\n",
       "\n",
       "    .dataframe thead th {\n",
       "        text-align: right;\n",
       "    }\n",
       "</style>\n",
       "<table border=\"1\" class=\"dataframe\">\n",
       "  <thead>\n",
       "    <tr style=\"text-align: right;\">\n",
       "      <th></th>\n",
       "      <th>Gender</th>\n",
       "      <th>Age</th>\n",
       "      <th>Tenure</th>\n",
       "      <th>Balance</th>\n",
       "    </tr>\n",
       "  </thead>\n",
       "  <tbody>\n",
       "    <tr>\n",
       "      <th>0</th>\n",
       "      <td>Female</td>\n",
       "      <td>42</td>\n",
       "      <td>2</td>\n",
       "      <td>0.00</td>\n",
       "    </tr>\n",
       "    <tr>\n",
       "      <th>1</th>\n",
       "      <td>Female</td>\n",
       "      <td>41</td>\n",
       "      <td>1</td>\n",
       "      <td>83807.86</td>\n",
       "    </tr>\n",
       "    <tr>\n",
       "      <th>2</th>\n",
       "      <td>Female</td>\n",
       "      <td>42</td>\n",
       "      <td>8</td>\n",
       "      <td>159660.80</td>\n",
       "    </tr>\n",
       "    <tr>\n",
       "      <th>3</th>\n",
       "      <td>Female</td>\n",
       "      <td>39</td>\n",
       "      <td>1</td>\n",
       "      <td>0.00</td>\n",
       "    </tr>\n",
       "    <tr>\n",
       "      <th>4</th>\n",
       "      <td>Female</td>\n",
       "      <td>43</td>\n",
       "      <td>2</td>\n",
       "      <td>125510.82</td>\n",
       "    </tr>\n",
       "  </tbody>\n",
       "</table>\n",
       "</div>"
      ],
      "text/plain": [
       "   Gender  Age  Tenure    Balance\n",
       "0  Female   42       2       0.00\n",
       "1  Female   41       1   83807.86\n",
       "2  Female   42       8  159660.80\n",
       "3  Female   39       1       0.00\n",
       "4  Female   43       2  125510.82"
      ]
     },
     "execution_count": 10,
     "metadata": {},
     "output_type": "execute_result"
    }
   ],
   "source": [
    "df_specific.head()"
   ]
  },
  {
   "cell_type": "markdown",
   "id": "38cd8b58",
   "metadata": {},
   "source": [
    "### 3.Reading a part of the DataFrame"
   ]
  },
  {
   "cell_type": "code",
   "execution_count": 11,
   "id": "917ef020",
   "metadata": {},
   "outputs": [],
   "source": [
    "df_part = pd.read_csv(\"churn.csv\",nrows=5000)"
   ]
  },
  {
   "cell_type": "code",
   "execution_count": 12,
   "id": "824a174d",
   "metadata": {},
   "outputs": [
    {
     "data": {
      "text/html": [
       "<div>\n",
       "<style scoped>\n",
       "    .dataframe tbody tr th:only-of-type {\n",
       "        vertical-align: middle;\n",
       "    }\n",
       "\n",
       "    .dataframe tbody tr th {\n",
       "        vertical-align: top;\n",
       "    }\n",
       "\n",
       "    .dataframe thead th {\n",
       "        text-align: right;\n",
       "    }\n",
       "</style>\n",
       "<table border=\"1\" class=\"dataframe\">\n",
       "  <thead>\n",
       "    <tr style=\"text-align: right;\">\n",
       "      <th></th>\n",
       "      <th>RowNumber</th>\n",
       "      <th>CustomerId</th>\n",
       "      <th>Surname</th>\n",
       "      <th>CreditScore</th>\n",
       "      <th>Geography</th>\n",
       "      <th>Gender</th>\n",
       "      <th>Age</th>\n",
       "      <th>Tenure</th>\n",
       "      <th>Balance</th>\n",
       "      <th>NumOfProducts</th>\n",
       "      <th>HasCrCard</th>\n",
       "      <th>IsActiveMember</th>\n",
       "      <th>EstimatedSalary</th>\n",
       "      <th>Exited</th>\n",
       "    </tr>\n",
       "  </thead>\n",
       "  <tbody>\n",
       "    <tr>\n",
       "      <th>0</th>\n",
       "      <td>1</td>\n",
       "      <td>15634602</td>\n",
       "      <td>Hargrave</td>\n",
       "      <td>619</td>\n",
       "      <td>France</td>\n",
       "      <td>Female</td>\n",
       "      <td>42</td>\n",
       "      <td>2</td>\n",
       "      <td>0.00</td>\n",
       "      <td>1</td>\n",
       "      <td>1</td>\n",
       "      <td>1</td>\n",
       "      <td>101348.88</td>\n",
       "      <td>1</td>\n",
       "    </tr>\n",
       "    <tr>\n",
       "      <th>1</th>\n",
       "      <td>2</td>\n",
       "      <td>15647311</td>\n",
       "      <td>Hill</td>\n",
       "      <td>608</td>\n",
       "      <td>Spain</td>\n",
       "      <td>Female</td>\n",
       "      <td>41</td>\n",
       "      <td>1</td>\n",
       "      <td>83807.86</td>\n",
       "      <td>1</td>\n",
       "      <td>0</td>\n",
       "      <td>1</td>\n",
       "      <td>112542.58</td>\n",
       "      <td>0</td>\n",
       "    </tr>\n",
       "    <tr>\n",
       "      <th>2</th>\n",
       "      <td>3</td>\n",
       "      <td>15619304</td>\n",
       "      <td>Onio</td>\n",
       "      <td>502</td>\n",
       "      <td>France</td>\n",
       "      <td>Female</td>\n",
       "      <td>42</td>\n",
       "      <td>8</td>\n",
       "      <td>159660.80</td>\n",
       "      <td>3</td>\n",
       "      <td>1</td>\n",
       "      <td>0</td>\n",
       "      <td>113931.57</td>\n",
       "      <td>1</td>\n",
       "    </tr>\n",
       "    <tr>\n",
       "      <th>3</th>\n",
       "      <td>4</td>\n",
       "      <td>15701354</td>\n",
       "      <td>Boni</td>\n",
       "      <td>699</td>\n",
       "      <td>France</td>\n",
       "      <td>Female</td>\n",
       "      <td>39</td>\n",
       "      <td>1</td>\n",
       "      <td>0.00</td>\n",
       "      <td>2</td>\n",
       "      <td>0</td>\n",
       "      <td>0</td>\n",
       "      <td>93826.63</td>\n",
       "      <td>0</td>\n",
       "    </tr>\n",
       "    <tr>\n",
       "      <th>4</th>\n",
       "      <td>5</td>\n",
       "      <td>15737888</td>\n",
       "      <td>Mitchell</td>\n",
       "      <td>850</td>\n",
       "      <td>Spain</td>\n",
       "      <td>Female</td>\n",
       "      <td>43</td>\n",
       "      <td>2</td>\n",
       "      <td>125510.82</td>\n",
       "      <td>1</td>\n",
       "      <td>1</td>\n",
       "      <td>1</td>\n",
       "      <td>79084.10</td>\n",
       "      <td>0</td>\n",
       "    </tr>\n",
       "  </tbody>\n",
       "</table>\n",
       "</div>"
      ],
      "text/plain": [
       "   RowNumber  CustomerId   Surname  CreditScore Geography  Gender  Age  \\\n",
       "0          1    15634602  Hargrave          619    France  Female   42   \n",
       "1          2    15647311      Hill          608     Spain  Female   41   \n",
       "2          3    15619304      Onio          502    France  Female   42   \n",
       "3          4    15701354      Boni          699    France  Female   39   \n",
       "4          5    15737888  Mitchell          850     Spain  Female   43   \n",
       "\n",
       "   Tenure    Balance  NumOfProducts  HasCrCard  IsActiveMember  \\\n",
       "0       2       0.00              1          1               1   \n",
       "1       1   83807.86              1          0               1   \n",
       "2       8  159660.80              3          1               0   \n",
       "3       1       0.00              2          0               0   \n",
       "4       2  125510.82              1          1               1   \n",
       "\n",
       "   EstimatedSalary  Exited  \n",
       "0        101348.88       1  \n",
       "1        112542.58       0  \n",
       "2        113931.57       1  \n",
       "3         93826.63       0  \n",
       "4         79084.10       0  "
      ]
     },
     "execution_count": 12,
     "metadata": {},
     "output_type": "execute_result"
    }
   ],
   "source": [
    "df_part.head()"
   ]
  },
  {
   "cell_type": "code",
   "execution_count": 13,
   "id": "62c1abd9",
   "metadata": {},
   "outputs": [
    {
     "data": {
      "text/html": [
       "<div>\n",
       "<style scoped>\n",
       "    .dataframe tbody tr th:only-of-type {\n",
       "        vertical-align: middle;\n",
       "    }\n",
       "\n",
       "    .dataframe tbody tr th {\n",
       "        vertical-align: top;\n",
       "    }\n",
       "\n",
       "    .dataframe thead th {\n",
       "        text-align: right;\n",
       "    }\n",
       "</style>\n",
       "<table border=\"1\" class=\"dataframe\">\n",
       "  <thead>\n",
       "    <tr style=\"text-align: right;\">\n",
       "      <th></th>\n",
       "      <th>5000</th>\n",
       "      <th>15710408</th>\n",
       "      <th>Cunningham</th>\n",
       "      <th>584</th>\n",
       "      <th>Spain</th>\n",
       "      <th>Female</th>\n",
       "      <th>38</th>\n",
       "      <th>3</th>\n",
       "      <th>0</th>\n",
       "      <th>2</th>\n",
       "      <th>1</th>\n",
       "      <th>1.1</th>\n",
       "      <th>4525.4</th>\n",
       "      <th>0.1</th>\n",
       "    </tr>\n",
       "  </thead>\n",
       "  <tbody>\n",
       "    <tr>\n",
       "      <th>0</th>\n",
       "      <td>5001</td>\n",
       "      <td>15598695</td>\n",
       "      <td>Fields</td>\n",
       "      <td>834</td>\n",
       "      <td>Germany</td>\n",
       "      <td>Female</td>\n",
       "      <td>68</td>\n",
       "      <td>9</td>\n",
       "      <td>130169.27</td>\n",
       "      <td>2</td>\n",
       "      <td>0</td>\n",
       "      <td>1</td>\n",
       "      <td>93112.20</td>\n",
       "      <td>0</td>\n",
       "    </tr>\n",
       "    <tr>\n",
       "      <th>1</th>\n",
       "      <td>5002</td>\n",
       "      <td>15649354</td>\n",
       "      <td>Johnston</td>\n",
       "      <td>754</td>\n",
       "      <td>Spain</td>\n",
       "      <td>Male</td>\n",
       "      <td>35</td>\n",
       "      <td>4</td>\n",
       "      <td>0.00</td>\n",
       "      <td>2</td>\n",
       "      <td>1</td>\n",
       "      <td>1</td>\n",
       "      <td>9658.41</td>\n",
       "      <td>0</td>\n",
       "    </tr>\n",
       "    <tr>\n",
       "      <th>2</th>\n",
       "      <td>5003</td>\n",
       "      <td>15737556</td>\n",
       "      <td>Vasilyev</td>\n",
       "      <td>590</td>\n",
       "      <td>France</td>\n",
       "      <td>Male</td>\n",
       "      <td>43</td>\n",
       "      <td>7</td>\n",
       "      <td>81076.80</td>\n",
       "      <td>2</td>\n",
       "      <td>1</td>\n",
       "      <td>1</td>\n",
       "      <td>182627.25</td>\n",
       "      <td>1</td>\n",
       "    </tr>\n",
       "    <tr>\n",
       "      <th>3</th>\n",
       "      <td>5004</td>\n",
       "      <td>15671610</td>\n",
       "      <td>Hooper</td>\n",
       "      <td>740</td>\n",
       "      <td>France</td>\n",
       "      <td>Male</td>\n",
       "      <td>36</td>\n",
       "      <td>7</td>\n",
       "      <td>0.00</td>\n",
       "      <td>1</td>\n",
       "      <td>1</td>\n",
       "      <td>1</td>\n",
       "      <td>13177.40</td>\n",
       "      <td>0</td>\n",
       "    </tr>\n",
       "    <tr>\n",
       "      <th>4</th>\n",
       "      <td>5005</td>\n",
       "      <td>15625092</td>\n",
       "      <td>Colombo</td>\n",
       "      <td>502</td>\n",
       "      <td>Germany</td>\n",
       "      <td>Female</td>\n",
       "      <td>57</td>\n",
       "      <td>3</td>\n",
       "      <td>101465.31</td>\n",
       "      <td>1</td>\n",
       "      <td>1</td>\n",
       "      <td>0</td>\n",
       "      <td>43568.31</td>\n",
       "      <td>1</td>\n",
       "    </tr>\n",
       "  </tbody>\n",
       "</table>\n",
       "</div>"
      ],
      "text/plain": [
       "   5000  15710408 Cunningham  584    Spain  Female  38  3          0  2  1  \\\n",
       "0  5001  15598695     Fields  834  Germany  Female  68  9  130169.27  2  0   \n",
       "1  5002  15649354   Johnston  754    Spain    Male  35  4       0.00  2  1   \n",
       "2  5003  15737556   Vasilyev  590   France    Male  43  7   81076.80  2  1   \n",
       "3  5004  15671610     Hooper  740   France    Male  36  7       0.00  1  1   \n",
       "4  5005  15625092    Colombo  502  Germany  Female  57  3  101465.31  1  1   \n",
       "\n",
       "   1.1     4525.4  0.1  \n",
       "0    1   93112.20    0  \n",
       "1    1    9658.41    0  \n",
       "2    1  182627.25    1  \n",
       "3    1   13177.40    0  \n",
       "4    0   43568.31    1  "
      ]
     },
     "execution_count": 13,
     "metadata": {},
     "output_type": "execute_result"
    }
   ],
   "source": [
    "# Another way\n",
    "df_part1 = pd.read_csv(\"churn.csv\",skiprows = 5000)\n",
    "df_part1.head()"
   ]
  },
  {
   "cell_type": "markdown",
   "id": "80d782fd",
   "metadata": {},
   "source": [
    "### 4.Sample data"
   ]
  },
  {
   "cell_type": "code",
   "execution_count": 14,
   "id": "bee12637",
   "metadata": {},
   "outputs": [
    {
     "data": {
      "text/plain": [
       "(1000, 10)"
      ]
     },
     "execution_count": 14,
     "metadata": {},
     "output_type": "execute_result"
    }
   ],
   "source": [
    "df_sample = df.sample(n=1000)\n",
    "df_sample.shape"
   ]
  },
  {
   "cell_type": "code",
   "execution_count": 15,
   "id": "06ae4492",
   "metadata": {},
   "outputs": [
    {
     "data": {
      "text/plain": [
       "(1000, 10)"
      ]
     },
     "execution_count": 15,
     "metadata": {},
     "output_type": "execute_result"
    }
   ],
   "source": [
    "df_sample1 = df.sample(frac=0.1)\n",
    "df_sample1.shape"
   ]
  },
  {
   "cell_type": "markdown",
   "id": "69c445b6",
   "metadata": {},
   "source": [
    "### 5.Checking the missing values"
   ]
  },
  {
   "cell_type": "code",
   "execution_count": 16,
   "id": "e0b5c297",
   "metadata": {},
   "outputs": [
    {
     "data": {
      "text/plain": [
       "Geography          0\n",
       "Gender             0\n",
       "Age                0\n",
       "Tenure             0\n",
       "Balance            0\n",
       "NumOfProducts      0\n",
       "HasCrCard          0\n",
       "IsActiveMember     0\n",
       "EstimatedSalary    0\n",
       "Exited             0\n",
       "dtype: int64"
      ]
     },
     "execution_count": 16,
     "metadata": {},
     "output_type": "execute_result"
    }
   ],
   "source": [
    "df.isnull().sum()"
   ]
  },
  {
   "cell_type": "code",
   "execution_count": 17,
   "id": "4235b029",
   "metadata": {},
   "outputs": [
    {
     "data": {
      "text/plain": [
       "Geography          0\n",
       "Gender             0\n",
       "Age                0\n",
       "Tenure             0\n",
       "Balance            0\n",
       "NumOfProducts      0\n",
       "HasCrCard          0\n",
       "IsActiveMember     0\n",
       "EstimatedSalary    0\n",
       "Exited             0\n",
       "dtype: int64"
      ]
     },
     "execution_count": 17,
     "metadata": {},
     "output_type": "execute_result"
    }
   ],
   "source": [
    "df.isna().sum()"
   ]
  },
  {
   "cell_type": "markdown",
   "id": "21d36c68",
   "metadata": {},
   "source": [
    "### 6.Adding missing values using loc and iloc\n",
    "- These methods select rows and columns based on label,index\n",
    "- loc: selects with label\n",
    "- iloc:selects with index"
   ]
  },
  {
   "cell_type": "code",
   "execution_count": 18,
   "id": "082ed234",
   "metadata": {},
   "outputs": [],
   "source": [
    "missing_index = np.random.randint(10000, size= 20)"
   ]
  },
  {
   "cell_type": "code",
   "execution_count": 19,
   "id": "b831755b",
   "metadata": {},
   "outputs": [],
   "source": [
    "df.loc[missing_index, ['Balance','Geography']] = np.nan"
   ]
  },
  {
   "cell_type": "code",
   "execution_count": 20,
   "id": "7e45ceef",
   "metadata": {},
   "outputs": [],
   "source": [
    "df.iloc[missing_index, -1] = np.nan"
   ]
  },
  {
   "cell_type": "code",
   "execution_count": 21,
   "id": "0c2d580f",
   "metadata": {},
   "outputs": [
    {
     "data": {
      "text/plain": [
       "Geography          19\n",
       "Gender              0\n",
       "Age                 0\n",
       "Tenure              0\n",
       "Balance            19\n",
       "NumOfProducts       0\n",
       "HasCrCard           0\n",
       "IsActiveMember      0\n",
       "EstimatedSalary     0\n",
       "Exited             19\n",
       "dtype: int64"
      ]
     },
     "execution_count": 21,
     "metadata": {},
     "output_type": "execute_result"
    }
   ],
   "source": [
    "df.isnull().sum()"
   ]
  },
  {
   "cell_type": "markdown",
   "id": "1216e752",
   "metadata": {},
   "source": [
    "### 7.Filling missing values"
   ]
  },
  {
   "cell_type": "code",
   "execution_count": 22,
   "id": "80b678a1",
   "metadata": {},
   "outputs": [
    {
     "data": {
      "text/plain": [
       "France     5003\n",
       "Germany    2505\n",
       "Spain      2473\n",
       "Name: Geography, dtype: int64"
      ]
     },
     "execution_count": 22,
     "metadata": {},
     "output_type": "execute_result"
    }
   ],
   "source": [
    "df['Geography'].value_counts()"
   ]
  },
  {
   "cell_type": "code",
   "execution_count": 23,
   "id": "669d0dc1",
   "metadata": {},
   "outputs": [],
   "source": [
    "mode = df['Geography'].value_counts().index[0]\n",
    "df['Geography'].fillna(value=mode,inplace=True)"
   ]
  },
  {
   "cell_type": "code",
   "execution_count": 24,
   "id": "e1019a10",
   "metadata": {},
   "outputs": [
    {
     "data": {
      "text/plain": [
       "France     5022\n",
       "Germany    2505\n",
       "Spain      2473\n",
       "Name: Geography, dtype: int64"
      ]
     },
     "execution_count": 24,
     "metadata": {},
     "output_type": "execute_result"
    }
   ],
   "source": [
    "df['Geography'].value_counts()"
   ]
  },
  {
   "cell_type": "code",
   "execution_count": 25,
   "id": "dad96da8",
   "metadata": {},
   "outputs": [],
   "source": [
    "mean = df['Balance'].mean()\n",
    "df['Balance'].fillna(value=mean, inplace=True)"
   ]
  },
  {
   "cell_type": "markdown",
   "id": "269a93bc",
   "metadata": {},
   "source": [
    "### 8.Dropping missing values"
   ]
  },
  {
   "cell_type": "code",
   "execution_count": 26,
   "id": "bc94ead5",
   "metadata": {},
   "outputs": [],
   "source": [
    "df.dropna(axis=0,how='any',inplace=True)"
   ]
  },
  {
   "cell_type": "code",
   "execution_count": 27,
   "id": "df800c71",
   "metadata": {},
   "outputs": [
    {
     "data": {
      "text/plain": [
       "(9981, 10)"
      ]
     },
     "execution_count": 27,
     "metadata": {},
     "output_type": "execute_result"
    }
   ],
   "source": [
    "df.shape"
   ]
  },
  {
   "cell_type": "markdown",
   "id": "68d46802",
   "metadata": {},
   "source": [
    "### 9.Selecting rows based on conditions"
   ]
  },
  {
   "cell_type": "code",
   "execution_count": 28,
   "id": "1f30f337",
   "metadata": {},
   "outputs": [],
   "source": [
    "France = df[(df['Geography'] == 'France') & df['Exited']==1]"
   ]
  },
  {
   "cell_type": "code",
   "execution_count": 29,
   "id": "136879fb",
   "metadata": {},
   "outputs": [
    {
     "data": {
      "text/plain": [
       "France    807\n",
       "Name: Geography, dtype: int64"
      ]
     },
     "execution_count": 29,
     "metadata": {},
     "output_type": "execute_result"
    }
   ],
   "source": [
    "France['Geography'].value_counts()"
   ]
  },
  {
   "cell_type": "markdown",
   "id": "721dbeee",
   "metadata": {},
   "source": [
    "### 10. Describing the conditions with query"
   ]
  },
  {
   "cell_type": "code",
   "execution_count": 30,
   "id": "372eabb9",
   "metadata": {},
   "outputs": [],
   "source": [
    "df2 = df.query('80000 <Balance < 100000')"
   ]
  },
  {
   "cell_type": "code",
   "execution_count": 31,
   "id": "4ac987a9",
   "metadata": {},
   "outputs": [
    {
     "data": {
      "text/plain": [
       "<matplotlib.axes._subplots.AxesSubplot at 0x2398cb76d88>"
      ]
     },
     "execution_count": 31,
     "metadata": {},
     "output_type": "execute_result"
    },
    {
     "data": {
      "image/png": "[encoded data removed]",
      "text/plain": [
       "<Figure size 576x360 with 1 Axes>"
      ]
     },
     "metadata": {
      "needs_background": "light"
     },
     "output_type": "display_data"
    }
   ],
   "source": [
    "df2['Balance'].plot(kind='hist', figsize = (8,5))"
   ]
  },
  {
   "cell_type": "markdown",
   "id": "ed2e0a8b",
   "metadata": {},
   "source": [
    "### 11.Describing the conditions with isin"
   ]
  },
  {
   "cell_type": "code",
   "execution_count": 32,
   "id": "014ebcf0",
   "metadata": {},
   "outputs": [
    {
     "data": {
      "text/html": [
       "<div>\n",
       "<style scoped>\n",
       "    .dataframe tbody tr th:only-of-type {\n",
       "        vertical-align: middle;\n",
       "    }\n",
       "\n",
       "    .dataframe tbody tr th {\n",
       "        vertical-align: top;\n",
       "    }\n",
       "\n",
       "    .dataframe thead th {\n",
       "        text-align: right;\n",
       "    }\n",
       "</style>\n",
       "<table border=\"1\" class=\"dataframe\">\n",
       "  <thead>\n",
       "    <tr style=\"text-align: right;\">\n",
       "      <th></th>\n",
       "      <th>Geography</th>\n",
       "      <th>Gender</th>\n",
       "      <th>Age</th>\n",
       "      <th>Tenure</th>\n",
       "      <th>Balance</th>\n",
       "      <th>NumOfProducts</th>\n",
       "      <th>HasCrCard</th>\n",
       "      <th>IsActiveMember</th>\n",
       "      <th>EstimatedSalary</th>\n",
       "      <th>Exited</th>\n",
       "    </tr>\n",
       "  </thead>\n",
       "  <tbody>\n",
       "    <tr>\n",
       "      <th>7</th>\n",
       "      <td>Germany</td>\n",
       "      <td>Female</td>\n",
       "      <td>29</td>\n",
       "      <td>4</td>\n",
       "      <td>115046.74</td>\n",
       "      <td>4</td>\n",
       "      <td>1</td>\n",
       "      <td>0</td>\n",
       "      <td>119346.88</td>\n",
       "      <td>1.0</td>\n",
       "    </tr>\n",
       "    <tr>\n",
       "      <th>8</th>\n",
       "      <td>France</td>\n",
       "      <td>Male</td>\n",
       "      <td>44</td>\n",
       "      <td>4</td>\n",
       "      <td>142051.07</td>\n",
       "      <td>2</td>\n",
       "      <td>0</td>\n",
       "      <td>1</td>\n",
       "      <td>74940.50</td>\n",
       "      <td>0.0</td>\n",
       "    </tr>\n",
       "    <tr>\n",
       "      <th>10</th>\n",
       "      <td>France</td>\n",
       "      <td>Male</td>\n",
       "      <td>31</td>\n",
       "      <td>6</td>\n",
       "      <td>102016.72</td>\n",
       "      <td>2</td>\n",
       "      <td>0</td>\n",
       "      <td>0</td>\n",
       "      <td>80181.12</td>\n",
       "      <td>0.0</td>\n",
       "    </tr>\n",
       "    <tr>\n",
       "      <th>12</th>\n",
       "      <td>France</td>\n",
       "      <td>Female</td>\n",
       "      <td>34</td>\n",
       "      <td>10</td>\n",
       "      <td>0.00</td>\n",
       "      <td>2</td>\n",
       "      <td>1</td>\n",
       "      <td>0</td>\n",
       "      <td>26260.98</td>\n",
       "      <td>0.0</td>\n",
       "    </tr>\n",
       "    <tr>\n",
       "      <th>17</th>\n",
       "      <td>Spain</td>\n",
       "      <td>Female</td>\n",
       "      <td>24</td>\n",
       "      <td>9</td>\n",
       "      <td>0.00</td>\n",
       "      <td>2</td>\n",
       "      <td>1</td>\n",
       "      <td>1</td>\n",
       "      <td>14406.41</td>\n",
       "      <td>0.0</td>\n",
       "    </tr>\n",
       "  </tbody>\n",
       "</table>\n",
       "</div>"
      ],
      "text/plain": [
       "   Geography  Gender  Age  Tenure    Balance  NumOfProducts  HasCrCard  \\\n",
       "7    Germany  Female   29       4  115046.74              4          1   \n",
       "8     France    Male   44       4  142051.07              2          0   \n",
       "10    France    Male   31       6  102016.72              2          0   \n",
       "12    France  Female   34      10       0.00              2          1   \n",
       "17     Spain  Female   24       9       0.00              2          1   \n",
       "\n",
       "    IsActiveMember  EstimatedSalary  Exited  \n",
       "7                0        119346.88     1.0  \n",
       "8                1         74940.50     0.0  \n",
       "10               0         80181.12     0.0  \n",
       "12               0         26260.98     0.0  \n",
       "17               1         14406.41     0.0  "
      ]
     },
     "execution_count": 32,
     "metadata": {},
     "output_type": "execute_result"
    }
   ],
   "source": [
    "df[df['Tenure'].isin([4,6,9,10])][:5]"
   ]
  },
  {
   "cell_type": "markdown",
   "id": "7fef5916",
   "metadata": {},
   "source": [
    "### 12.The groupby function"
   ]
  },
  {
   "cell_type": "code",
   "execution_count": 33,
   "id": "6e46c257",
   "metadata": {},
   "outputs": [
    {
     "data": {
      "text/plain": [
       "Index(['Geography', 'Gender', 'Age', 'Tenure', 'Balance', 'NumOfProducts',\n",
       "       'HasCrCard', 'IsActiveMember', 'EstimatedSalary', 'Exited'],\n",
       "      dtype='object')"
      ]
     },
     "execution_count": 33,
     "metadata": {},
     "output_type": "execute_result"
    }
   ],
   "source": [
    "df.columns"
   ]
  },
  {
   "cell_type": "code",
   "execution_count": 34,
   "id": "f8565771",
   "metadata": {},
   "outputs": [
    {
     "data": {
      "text/html": [
       "<div>\n",
       "<style scoped>\n",
       "    .dataframe tbody tr th:only-of-type {\n",
       "        vertical-align: middle;\n",
       "    }\n",
       "\n",
       "    .dataframe tbody tr th {\n",
       "        vertical-align: top;\n",
       "    }\n",
       "\n",
       "    .dataframe thead th {\n",
       "        text-align: right;\n",
       "    }\n",
       "</style>\n",
       "<table border=\"1\" class=\"dataframe\">\n",
       "  <thead>\n",
       "    <tr style=\"text-align: right;\">\n",
       "      <th></th>\n",
       "      <th></th>\n",
       "      <th>Exited</th>\n",
       "    </tr>\n",
       "    <tr>\n",
       "      <th>Geography</th>\n",
       "      <th>Gender</th>\n",
       "      <th></th>\n",
       "    </tr>\n",
       "  </thead>\n",
       "  <tbody>\n",
       "    <tr>\n",
       "      <th rowspan=\"2\" valign=\"top\">France</th>\n",
       "      <th>Female</th>\n",
       "      <td>0.202924</td>\n",
       "    </tr>\n",
       "    <tr>\n",
       "      <th>Male</th>\n",
       "      <td>0.127094</td>\n",
       "    </tr>\n",
       "    <tr>\n",
       "      <th rowspan=\"2\" valign=\"top\">Germany</th>\n",
       "      <th>Female</th>\n",
       "      <td>0.375315</td>\n",
       "    </tr>\n",
       "    <tr>\n",
       "      <th>Male</th>\n",
       "      <td>0.277778</td>\n",
       "    </tr>\n",
       "    <tr>\n",
       "      <th rowspan=\"2\" valign=\"top\">Spain</th>\n",
       "      <th>Female</th>\n",
       "      <td>0.211592</td>\n",
       "    </tr>\n",
       "    <tr>\n",
       "      <th>Male</th>\n",
       "      <td>0.131313</td>\n",
       "    </tr>\n",
       "  </tbody>\n",
       "</table>\n",
       "</div>"
      ],
      "text/plain": [
       "                    Exited\n",
       "Geography Gender          \n",
       "France    Female  0.202924\n",
       "          Male    0.127094\n",
       "Germany   Female  0.375315\n",
       "          Male    0.277778\n",
       "Spain     Female  0.211592\n",
       "          Male    0.131313"
      ]
     },
     "execution_count": 34,
     "metadata": {},
     "output_type": "execute_result"
    }
   ],
   "source": [
    "df[['Geography', 'Gender','Exited']].groupby(['Geography', 'Gender']).mean()"
   ]
  },
  {
   "cell_type": "markdown",
   "id": "a3414550",
   "metadata": {},
   "source": [
    "### 13. Applying multiple aggregate functions with groupby"
   ]
  },
  {
   "cell_type": "code",
   "execution_count": 35,
   "id": "125e6fc8",
   "metadata": {},
   "outputs": [
    {
     "data": {
      "text/html": [
       "<div>\n",
       "<style scoped>\n",
       "    .dataframe tbody tr th:only-of-type {\n",
       "        vertical-align: middle;\n",
       "    }\n",
       "\n",
       "    .dataframe tbody tr th {\n",
       "        vertical-align: top;\n",
       "    }\n",
       "\n",
       "    .dataframe thead tr th {\n",
       "        text-align: left;\n",
       "    }\n",
       "\n",
       "    .dataframe thead tr:last-of-type th {\n",
       "        text-align: right;\n",
       "    }\n",
       "</style>\n",
       "<table border=\"1\" class=\"dataframe\">\n",
       "  <thead>\n",
       "    <tr>\n",
       "      <th></th>\n",
       "      <th></th>\n",
       "      <th colspan=\"3\" halign=\"left\">Exited</th>\n",
       "    </tr>\n",
       "    <tr>\n",
       "      <th></th>\n",
       "      <th></th>\n",
       "      <th>mean</th>\n",
       "      <th>count</th>\n",
       "      <th>max</th>\n",
       "    </tr>\n",
       "    <tr>\n",
       "      <th>Geography</th>\n",
       "      <th>Gender</th>\n",
       "      <th></th>\n",
       "      <th></th>\n",
       "      <th></th>\n",
       "    </tr>\n",
       "  </thead>\n",
       "  <tbody>\n",
       "    <tr>\n",
       "      <th rowspan=\"2\" valign=\"top\">France</th>\n",
       "      <th>Female</th>\n",
       "      <td>0.202924</td>\n",
       "      <td>2257</td>\n",
       "      <td>1.0</td>\n",
       "    </tr>\n",
       "    <tr>\n",
       "      <th>Male</th>\n",
       "      <td>0.127094</td>\n",
       "      <td>2746</td>\n",
       "      <td>1.0</td>\n",
       "    </tr>\n",
       "    <tr>\n",
       "      <th rowspan=\"2\" valign=\"top\">Germany</th>\n",
       "      <th>Female</th>\n",
       "      <td>0.375315</td>\n",
       "      <td>1191</td>\n",
       "      <td>1.0</td>\n",
       "    </tr>\n",
       "    <tr>\n",
       "      <th>Male</th>\n",
       "      <td>0.277778</td>\n",
       "      <td>1314</td>\n",
       "      <td>1.0</td>\n",
       "    </tr>\n",
       "    <tr>\n",
       "      <th rowspan=\"2\" valign=\"top\">Spain</th>\n",
       "      <th>Female</th>\n",
       "      <td>0.211592</td>\n",
       "      <td>1087</td>\n",
       "      <td>1.0</td>\n",
       "    </tr>\n",
       "    <tr>\n",
       "      <th>Male</th>\n",
       "      <td>0.131313</td>\n",
       "      <td>1386</td>\n",
       "      <td>1.0</td>\n",
       "    </tr>\n",
       "  </tbody>\n",
       "</table>\n",
       "</div>"
      ],
      "text/plain": [
       "                    Exited           \n",
       "                      mean count  max\n",
       "Geography Gender                     \n",
       "France    Female  0.202924  2257  1.0\n",
       "          Male    0.127094  2746  1.0\n",
       "Germany   Female  0.375315  1191  1.0\n",
       "          Male    0.277778  1314  1.0\n",
       "Spain     Female  0.211592  1087  1.0\n",
       "          Male    0.131313  1386  1.0"
      ]
     },
     "execution_count": 35,
     "metadata": {},
     "output_type": "execute_result"
    }
   ],
   "source": [
    "df[['Geography', 'Gender','Exited']].groupby(['Geography', 'Gender']).agg(['mean','count','max'])"
   ]
  },
  {
   "cell_type": "markdown",
   "id": "a7858a5d",
   "metadata": {},
   "source": [
    "### 14.Applying different aggregate functions to different groups"
   ]
  },
  {
   "cell_type": "code",
   "execution_count": 36,
   "id": "11f48c81",
   "metadata": {},
   "outputs": [],
   "source": [
    "df_summary = df[['Geography','Exited','Balance']].groupby('Geography')\\\n",
    ".agg(\n",
    " Number_of_churned_customers = pd.NamedAgg('Exited', 'sum'),\n",
    " Average_balance_of_customers = pd.NamedAgg('Balance', 'mean')\n",
    ")"
   ]
  },
  {
   "cell_type": "code",
   "execution_count": 37,
   "id": "05854e63",
   "metadata": {},
   "outputs": [
    {
     "data": {
      "text/html": [
       "<div>\n",
       "<style scoped>\n",
       "    .dataframe tbody tr th:only-of-type {\n",
       "        vertical-align: middle;\n",
       "    }\n",
       "\n",
       "    .dataframe tbody tr th {\n",
       "        vertical-align: top;\n",
       "    }\n",
       "\n",
       "    .dataframe thead th {\n",
       "        text-align: right;\n",
       "    }\n",
       "</style>\n",
       "<table border=\"1\" class=\"dataframe\">\n",
       "  <thead>\n",
       "    <tr style=\"text-align: right;\">\n",
       "      <th></th>\n",
       "      <th>Number_of_churned_customers</th>\n",
       "      <th>Average_balance_of_customers</th>\n",
       "    </tr>\n",
       "    <tr>\n",
       "      <th>Geography</th>\n",
       "      <th></th>\n",
       "      <th></th>\n",
       "    </tr>\n",
       "  </thead>\n",
       "  <tbody>\n",
       "    <tr>\n",
       "      <th>France</th>\n",
       "      <td>807.0</td>\n",
       "      <td>62033.976108</td>\n",
       "    </tr>\n",
       "    <tr>\n",
       "      <th>Germany</th>\n",
       "      <td>812.0</td>\n",
       "      <td>119740.194583</td>\n",
       "    </tr>\n",
       "    <tr>\n",
       "      <th>Spain</th>\n",
       "      <td>412.0</td>\n",
       "      <td>61890.972026</td>\n",
       "    </tr>\n",
       "  </tbody>\n",
       "</table>\n",
       "</div>"
      ],
      "text/plain": [
       "           Number_of_churned_customers  Average_balance_of_customers\n",
       "Geography                                                           \n",
       "France                           807.0                  62033.976108\n",
       "Germany                          812.0                 119740.194583\n",
       "Spain                            412.0                  61890.972026"
      ]
     },
     "execution_count": 37,
     "metadata": {},
     "output_type": "execute_result"
    }
   ],
   "source": [
    "df_summary"
   ]
  },
  {
   "cell_type": "code",
   "execution_count": 38,
   "id": "1d87db5b",
   "metadata": {},
   "outputs": [
    {
     "data": {
      "text/html": [
       "<div>\n",
       "<style scoped>\n",
       "    .dataframe tbody tr th:only-of-type {\n",
       "        vertical-align: middle;\n",
       "    }\n",
       "\n",
       "    .dataframe tbody tr th {\n",
       "        vertical-align: top;\n",
       "    }\n",
       "\n",
       "    .dataframe thead th {\n",
       "        text-align: right;\n",
       "    }\n",
       "</style>\n",
       "<table border=\"1\" class=\"dataframe\">\n",
       "  <thead>\n",
       "    <tr style=\"text-align: right;\">\n",
       "      <th></th>\n",
       "      <th># of churned customers</th>\n",
       "      <th>Average Balance of Customers</th>\n",
       "    </tr>\n",
       "    <tr>\n",
       "      <th>Geography</th>\n",
       "      <th></th>\n",
       "      <th></th>\n",
       "    </tr>\n",
       "  </thead>\n",
       "  <tbody>\n",
       "    <tr>\n",
       "      <th>France</th>\n",
       "      <td>807.0</td>\n",
       "      <td>62033.976108</td>\n",
       "    </tr>\n",
       "    <tr>\n",
       "      <th>Germany</th>\n",
       "      <td>812.0</td>\n",
       "      <td>119740.194583</td>\n",
       "    </tr>\n",
       "    <tr>\n",
       "      <th>Spain</th>\n",
       "      <td>412.0</td>\n",
       "      <td>61890.972026</td>\n",
       "    </tr>\n",
       "  </tbody>\n",
       "</table>\n",
       "</div>"
      ],
      "text/plain": [
       "           # of churned customers  Average Balance of Customers\n",
       "Geography                                                      \n",
       "France                      807.0                  62033.976108\n",
       "Germany                     812.0                 119740.194583\n",
       "Spain                       412.0                  61890.972026"
      ]
     },
     "execution_count": 38,
     "metadata": {},
     "output_type": "execute_result"
    }
   ],
   "source": [
    "df_summary1 = df[['Geography','Exited','Balance']].groupby('Geography')\\\n",
    ".agg({'Exited':'sum', 'Balance':'mean'})\n",
    "df_summary1.rename(columns={'Exited':'# of churned customers', 'Balance':'Average Balance of Customers'},inplace=True)\n",
    "df_summary1"
   ]
  },
  {
   "cell_type": "markdown",
   "id": "2c1e8637",
   "metadata": {},
   "source": [
    "### 15.Reset the index"
   ]
  },
  {
   "cell_type": "code",
   "execution_count": 39,
   "id": "abfcfaba",
   "metadata": {},
   "outputs": [],
   "source": [
    "df_new = df[['Geography','Exited','Balance']].groupby(['Geography','Exited']).mean().reset_index()"
   ]
  },
  {
   "cell_type": "code",
   "execution_count": 40,
   "id": "07f82ed3",
   "metadata": {},
   "outputs": [
    {
     "data": {
      "text/html": [
       "<div>\n",
       "<style scoped>\n",
       "    .dataframe tbody tr th:only-of-type {\n",
       "        vertical-align: middle;\n",
       "    }\n",
       "\n",
       "    .dataframe tbody tr th {\n",
       "        vertical-align: top;\n",
       "    }\n",
       "\n",
       "    .dataframe thead th {\n",
       "        text-align: right;\n",
       "    }\n",
       "</style>\n",
       "<table border=\"1\" class=\"dataframe\">\n",
       "  <thead>\n",
       "    <tr style=\"text-align: right;\">\n",
       "      <th></th>\n",
       "      <th>Geography</th>\n",
       "      <th>Exited</th>\n",
       "      <th>Balance</th>\n",
       "    </tr>\n",
       "  </thead>\n",
       "  <tbody>\n",
       "    <tr>\n",
       "      <th>0</th>\n",
       "      <td>France</td>\n",
       "      <td>0.0</td>\n",
       "      <td>60334.625257</td>\n",
       "    </tr>\n",
       "    <tr>\n",
       "      <th>1</th>\n",
       "      <td>France</td>\n",
       "      <td>1.0</td>\n",
       "      <td>70869.758228</td>\n",
       "    </tr>\n",
       "    <tr>\n",
       "      <th>2</th>\n",
       "      <td>Germany</td>\n",
       "      <td>0.0</td>\n",
       "      <td>119428.939858</td>\n",
       "    </tr>\n",
       "    <tr>\n",
       "      <th>3</th>\n",
       "      <td>Germany</td>\n",
       "      <td>1.0</td>\n",
       "      <td>120389.153017</td>\n",
       "    </tr>\n",
       "    <tr>\n",
       "      <th>4</th>\n",
       "      <td>Spain</td>\n",
       "      <td>0.0</td>\n",
       "      <td>59764.938113</td>\n",
       "    </tr>\n",
       "    <tr>\n",
       "      <th>5</th>\n",
       "      <td>Spain</td>\n",
       "      <td>1.0</td>\n",
       "      <td>72526.301869</td>\n",
       "    </tr>\n",
       "  </tbody>\n",
       "</table>\n",
       "</div>"
      ],
      "text/plain": [
       "  Geography  Exited        Balance\n",
       "0    France     0.0   60334.625257\n",
       "1    France     1.0   70869.758228\n",
       "2   Germany     0.0  119428.939858\n",
       "3   Germany     1.0  120389.153017\n",
       "4     Spain     0.0   59764.938113\n",
       "5     Spain     1.0   72526.301869"
      ]
     },
     "execution_count": 40,
     "metadata": {},
     "output_type": "execute_result"
    }
   ],
   "source": [
    "df_new"
   ]
  },
  {
   "cell_type": "markdown",
   "id": "e77a6729",
   "metadata": {},
   "source": [
    "### 16. Reset the index with a drop\n"
   ]
  },
  {
   "cell_type": "code",
   "execution_count": 41,
   "id": "70f9680d",
   "metadata": {},
   "outputs": [
    {
     "data": {
      "text/html": [
       "<div>\n",
       "<style scoped>\n",
       "    .dataframe tbody tr th:only-of-type {\n",
       "        vertical-align: middle;\n",
       "    }\n",
       "\n",
       "    .dataframe tbody tr th {\n",
       "        vertical-align: top;\n",
       "    }\n",
       "\n",
       "    .dataframe thead th {\n",
       "        text-align: right;\n",
       "    }\n",
       "</style>\n",
       "<table border=\"1\" class=\"dataframe\">\n",
       "  <thead>\n",
       "    <tr style=\"text-align: right;\">\n",
       "      <th></th>\n",
       "      <th>Geography</th>\n",
       "      <th>Exited</th>\n",
       "      <th>Balance</th>\n",
       "    </tr>\n",
       "  </thead>\n",
       "  <tbody>\n",
       "    <tr>\n",
       "      <th>0</th>\n",
       "      <td>Spain</td>\n",
       "      <td>0.0</td>\n",
       "      <td>114440.24</td>\n",
       "    </tr>\n",
       "    <tr>\n",
       "      <th>1</th>\n",
       "      <td>France</td>\n",
       "      <td>1.0</td>\n",
       "      <td>0.00</td>\n",
       "    </tr>\n",
       "    <tr>\n",
       "      <th>2</th>\n",
       "      <td>Spain</td>\n",
       "      <td>0.0</td>\n",
       "      <td>0.00</td>\n",
       "    </tr>\n",
       "    <tr>\n",
       "      <th>3</th>\n",
       "      <td>France</td>\n",
       "      <td>0.0</td>\n",
       "      <td>135438.40</td>\n",
       "    </tr>\n",
       "    <tr>\n",
       "      <th>4</th>\n",
       "      <td>Spain</td>\n",
       "      <td>0.0</td>\n",
       "      <td>0.00</td>\n",
       "    </tr>\n",
       "  </tbody>\n",
       "</table>\n",
       "</div>"
      ],
      "text/plain": [
       "  Geography  Exited    Balance\n",
       "0     Spain     0.0  114440.24\n",
       "1    France     1.0       0.00\n",
       "2     Spain     0.0       0.00\n",
       "3    France     0.0  135438.40\n",
       "4     Spain     0.0       0.00"
      ]
     },
     "execution_count": 41,
     "metadata": {},
     "output_type": "execute_result"
    }
   ],
   "source": [
    "df[['Geography','Exited','Balance']].sample(n=5).reset_index(drop=True)"
   ]
  },
  {
   "cell_type": "markdown",
   "id": "b1ba61f8",
   "metadata": {},
   "source": [
    "### 17.Set a particular column as the index"
   ]
  },
  {
   "cell_type": "code",
   "execution_count": 42,
   "id": "8585a97e",
   "metadata": {},
   "outputs": [
    {
     "data": {
      "text/html": [
       "<div>\n",
       "<style scoped>\n",
       "    .dataframe tbody tr th:only-of-type {\n",
       "        vertical-align: middle;\n",
       "    }\n",
       "\n",
       "    .dataframe tbody tr th {\n",
       "        vertical-align: top;\n",
       "    }\n",
       "\n",
       "    .dataframe thead th {\n",
       "        text-align: right;\n",
       "    }\n",
       "</style>\n",
       "<table border=\"1\" class=\"dataframe\">\n",
       "  <thead>\n",
       "    <tr style=\"text-align: right;\">\n",
       "      <th></th>\n",
       "      <th>Exited</th>\n",
       "      <th>Balance</th>\n",
       "    </tr>\n",
       "    <tr>\n",
       "      <th>Geography</th>\n",
       "      <th></th>\n",
       "      <th></th>\n",
       "    </tr>\n",
       "  </thead>\n",
       "  <tbody>\n",
       "    <tr>\n",
       "      <th>France</th>\n",
       "      <td>0.0</td>\n",
       "      <td>60334.625257</td>\n",
       "    </tr>\n",
       "    <tr>\n",
       "      <th>France</th>\n",
       "      <td>1.0</td>\n",
       "      <td>70869.758228</td>\n",
       "    </tr>\n",
       "    <tr>\n",
       "      <th>Germany</th>\n",
       "      <td>0.0</td>\n",
       "      <td>119428.939858</td>\n",
       "    </tr>\n",
       "    <tr>\n",
       "      <th>Germany</th>\n",
       "      <td>1.0</td>\n",
       "      <td>120389.153017</td>\n",
       "    </tr>\n",
       "    <tr>\n",
       "      <th>Spain</th>\n",
       "      <td>0.0</td>\n",
       "      <td>59764.938113</td>\n",
       "    </tr>\n",
       "    <tr>\n",
       "      <th>Spain</th>\n",
       "      <td>1.0</td>\n",
       "      <td>72526.301869</td>\n",
       "    </tr>\n",
       "  </tbody>\n",
       "</table>\n",
       "</div>"
      ],
      "text/plain": [
       "           Exited        Balance\n",
       "Geography                       \n",
       "France        0.0   60334.625257\n",
       "France        1.0   70869.758228\n",
       "Germany       0.0  119428.939858\n",
       "Germany       1.0  120389.153017\n",
       "Spain         0.0   59764.938113\n",
       "Spain         1.0   72526.301869"
      ]
     },
     "execution_count": 42,
     "metadata": {},
     "output_type": "execute_result"
    }
   ],
   "source": [
    "df_new.set_index('Geography')"
   ]
  },
  {
   "cell_type": "markdown",
   "id": "4219b19c",
   "metadata": {},
   "source": [
    "### 18.Inserting a new columns"
   ]
  },
  {
   "cell_type": "code",
   "execution_count": 43,
   "id": "af880c57",
   "metadata": {},
   "outputs": [],
   "source": [
    "New_column = np.random.randint(10,size=6)"
   ]
  },
  {
   "cell_type": "code",
   "execution_count": 44,
   "id": "a91dbd89",
   "metadata": {},
   "outputs": [],
   "source": [
    "df_new['New_col'] = New_column"
   ]
  },
  {
   "cell_type": "code",
   "execution_count": 45,
   "id": "dedd3818",
   "metadata": {},
   "outputs": [
    {
     "data": {
      "text/html": [
       "<div>\n",
       "<style scoped>\n",
       "    .dataframe tbody tr th:only-of-type {\n",
       "        vertical-align: middle;\n",
       "    }\n",
       "\n",
       "    .dataframe tbody tr th {\n",
       "        vertical-align: top;\n",
       "    }\n",
       "\n",
       "    .dataframe thead th {\n",
       "        text-align: right;\n",
       "    }\n",
       "</style>\n",
       "<table border=\"1\" class=\"dataframe\">\n",
       "  <thead>\n",
       "    <tr style=\"text-align: right;\">\n",
       "      <th></th>\n",
       "      <th>Geography</th>\n",
       "      <th>Exited</th>\n",
       "      <th>Balance</th>\n",
       "      <th>New_col</th>\n",
       "    </tr>\n",
       "  </thead>\n",
       "  <tbody>\n",
       "    <tr>\n",
       "      <th>0</th>\n",
       "      <td>France</td>\n",
       "      <td>0.0</td>\n",
       "      <td>60334.625257</td>\n",
       "      <td>9</td>\n",
       "    </tr>\n",
       "    <tr>\n",
       "      <th>1</th>\n",
       "      <td>France</td>\n",
       "      <td>1.0</td>\n",
       "      <td>70869.758228</td>\n",
       "      <td>4</td>\n",
       "    </tr>\n",
       "    <tr>\n",
       "      <th>2</th>\n",
       "      <td>Germany</td>\n",
       "      <td>0.0</td>\n",
       "      <td>119428.939858</td>\n",
       "      <td>7</td>\n",
       "    </tr>\n",
       "    <tr>\n",
       "      <th>3</th>\n",
       "      <td>Germany</td>\n",
       "      <td>1.0</td>\n",
       "      <td>120389.153017</td>\n",
       "      <td>1</td>\n",
       "    </tr>\n",
       "    <tr>\n",
       "      <th>4</th>\n",
       "      <td>Spain</td>\n",
       "      <td>0.0</td>\n",
       "      <td>59764.938113</td>\n",
       "      <td>0</td>\n",
       "    </tr>\n",
       "    <tr>\n",
       "      <th>5</th>\n",
       "      <td>Spain</td>\n",
       "      <td>1.0</td>\n",
       "      <td>72526.301869</td>\n",
       "      <td>2</td>\n",
       "    </tr>\n",
       "  </tbody>\n",
       "</table>\n",
       "</div>"
      ],
      "text/plain": [
       "  Geography  Exited        Balance  New_col\n",
       "0    France     0.0   60334.625257        9\n",
       "1    France     1.0   70869.758228        4\n",
       "2   Germany     0.0  119428.939858        7\n",
       "3   Germany     1.0  120389.153017        1\n",
       "4     Spain     0.0   59764.938113        0\n",
       "5     Spain     1.0   72526.301869        2"
      ]
     },
     "execution_count": 45,
     "metadata": {},
     "output_type": "execute_result"
    }
   ],
   "source": [
    "df_new"
   ]
  },
  {
   "cell_type": "code",
   "execution_count": 46,
   "id": "a5362a62",
   "metadata": {},
   "outputs": [],
   "source": [
    "New_col2 = np.random.randint(10,size=6)"
   ]
  },
  {
   "cell_type": "code",
   "execution_count": 47,
   "id": "64066b0a",
   "metadata": {},
   "outputs": [],
   "source": [
    "# df_new.insert(0, 'Group', group)\n",
    "# df_new"
   ]
  },
  {
   "cell_type": "markdown",
   "id": "6ec9ae16",
   "metadata": {},
   "source": [
    "### 19.The Where function"
   ]
  },
  {
   "cell_type": "code",
   "execution_count": 48,
   "id": "abbcfa6f",
   "metadata": {},
   "outputs": [],
   "source": [
    "df_new['Balance'] = df_new['Balance'].where(df_new['New_col'] >=6,0)"
   ]
  },
  {
   "cell_type": "code",
   "execution_count": 49,
   "id": "b58155ea",
   "metadata": {},
   "outputs": [
    {
     "data": {
      "text/html": [
       "<div>\n",
       "<style scoped>\n",
       "    .dataframe tbody tr th:only-of-type {\n",
       "        vertical-align: middle;\n",
       "    }\n",
       "\n",
       "    .dataframe tbody tr th {\n",
       "        vertical-align: top;\n",
       "    }\n",
       "\n",
       "    .dataframe thead th {\n",
       "        text-align: right;\n",
       "    }\n",
       "</style>\n",
       "<table border=\"1\" class=\"dataframe\">\n",
       "  <thead>\n",
       "    <tr style=\"text-align: right;\">\n",
       "      <th></th>\n",
       "      <th>Geography</th>\n",
       "      <th>Exited</th>\n",
       "      <th>Balance</th>\n",
       "      <th>New_col</th>\n",
       "    </tr>\n",
       "  </thead>\n",
       "  <tbody>\n",
       "    <tr>\n",
       "      <th>0</th>\n",
       "      <td>France</td>\n",
       "      <td>0.0</td>\n",
       "      <td>60334.625257</td>\n",
       "      <td>9</td>\n",
       "    </tr>\n",
       "    <tr>\n",
       "      <th>1</th>\n",
       "      <td>France</td>\n",
       "      <td>1.0</td>\n",
       "      <td>0.000000</td>\n",
       "      <td>4</td>\n",
       "    </tr>\n",
       "    <tr>\n",
       "      <th>2</th>\n",
       "      <td>Germany</td>\n",
       "      <td>0.0</td>\n",
       "      <td>119428.939858</td>\n",
       "      <td>7</td>\n",
       "    </tr>\n",
       "    <tr>\n",
       "      <th>3</th>\n",
       "      <td>Germany</td>\n",
       "      <td>1.0</td>\n",
       "      <td>0.000000</td>\n",
       "      <td>1</td>\n",
       "    </tr>\n",
       "    <tr>\n",
       "      <th>4</th>\n",
       "      <td>Spain</td>\n",
       "      <td>0.0</td>\n",
       "      <td>0.000000</td>\n",
       "      <td>0</td>\n",
       "    </tr>\n",
       "    <tr>\n",
       "      <th>5</th>\n",
       "      <td>Spain</td>\n",
       "      <td>1.0</td>\n",
       "      <td>0.000000</td>\n",
       "      <td>2</td>\n",
       "    </tr>\n",
       "  </tbody>\n",
       "</table>\n",
       "</div>"
      ],
      "text/plain": [
       "  Geography  Exited        Balance  New_col\n",
       "0    France     0.0   60334.625257        9\n",
       "1    France     1.0       0.000000        4\n",
       "2   Germany     0.0  119428.939858        7\n",
       "3   Germany     1.0       0.000000        1\n",
       "4     Spain     0.0       0.000000        0\n",
       "5     Spain     1.0       0.000000        2"
      ]
     },
     "execution_count": 49,
     "metadata": {},
     "output_type": "execute_result"
    }
   ],
   "source": [
    "df_new"
   ]
  },
  {
   "cell_type": "markdown",
   "id": "3738ab22",
   "metadata": {},
   "source": [
    "### 20.Rank function"
   ]
  },
  {
   "cell_type": "code",
   "execution_count": 50,
   "id": "69fabdff",
   "metadata": {},
   "outputs": [],
   "source": [
    "df_new['rank'] = df_new['Balance'].rank(method='first',ascending=False).astype('int')"
   ]
  },
  {
   "cell_type": "code",
   "execution_count": 51,
   "id": "fb625d39",
   "metadata": {},
   "outputs": [
    {
     "data": {
      "text/html": [
       "<div>\n",
       "<style scoped>\n",
       "    .dataframe tbody tr th:only-of-type {\n",
       "        vertical-align: middle;\n",
       "    }\n",
       "\n",
       "    .dataframe tbody tr th {\n",
       "        vertical-align: top;\n",
       "    }\n",
       "\n",
       "    .dataframe thead th {\n",
       "        text-align: right;\n",
       "    }\n",
       "</style>\n",
       "<table border=\"1\" class=\"dataframe\">\n",
       "  <thead>\n",
       "    <tr style=\"text-align: right;\">\n",
       "      <th></th>\n",
       "      <th>Geography</th>\n",
       "      <th>Exited</th>\n",
       "      <th>Balance</th>\n",
       "      <th>New_col</th>\n",
       "      <th>rank</th>\n",
       "    </tr>\n",
       "  </thead>\n",
       "  <tbody>\n",
       "    <tr>\n",
       "      <th>0</th>\n",
       "      <td>France</td>\n",
       "      <td>0.0</td>\n",
       "      <td>60334.625257</td>\n",
       "      <td>9</td>\n",
       "      <td>2</td>\n",
       "    </tr>\n",
       "    <tr>\n",
       "      <th>1</th>\n",
       "      <td>France</td>\n",
       "      <td>1.0</td>\n",
       "      <td>0.000000</td>\n",
       "      <td>4</td>\n",
       "      <td>3</td>\n",
       "    </tr>\n",
       "    <tr>\n",
       "      <th>2</th>\n",
       "      <td>Germany</td>\n",
       "      <td>0.0</td>\n",
       "      <td>119428.939858</td>\n",
       "      <td>7</td>\n",
       "      <td>1</td>\n",
       "    </tr>\n",
       "    <tr>\n",
       "      <th>3</th>\n",
       "      <td>Germany</td>\n",
       "      <td>1.0</td>\n",
       "      <td>0.000000</td>\n",
       "      <td>1</td>\n",
       "      <td>4</td>\n",
       "    </tr>\n",
       "    <tr>\n",
       "      <th>4</th>\n",
       "      <td>Spain</td>\n",
       "      <td>0.0</td>\n",
       "      <td>0.000000</td>\n",
       "      <td>0</td>\n",
       "      <td>5</td>\n",
       "    </tr>\n",
       "    <tr>\n",
       "      <th>5</th>\n",
       "      <td>Spain</td>\n",
       "      <td>1.0</td>\n",
       "      <td>0.000000</td>\n",
       "      <td>2</td>\n",
       "      <td>6</td>\n",
       "    </tr>\n",
       "  </tbody>\n",
       "</table>\n",
       "</div>"
      ],
      "text/plain": [
       "  Geography  Exited        Balance  New_col  rank\n",
       "0    France     0.0   60334.625257        9     2\n",
       "1    France     1.0       0.000000        4     3\n",
       "2   Germany     0.0  119428.939858        7     1\n",
       "3   Germany     1.0       0.000000        1     4\n",
       "4     Spain     0.0       0.000000        0     5\n",
       "5     Spain     1.0       0.000000        2     6"
      ]
     },
     "execution_count": 51,
     "metadata": {},
     "output_type": "execute_result"
    }
   ],
   "source": [
    "df_new"
   ]
  },
  {
   "cell_type": "markdown",
   "id": "f4e50bd7",
   "metadata": {},
   "source": [
    "### 21. Number of unique values in a column\n"
   ]
  },
  {
   "cell_type": "code",
   "execution_count": 52,
   "id": "83e3130d",
   "metadata": {},
   "outputs": [
    {
     "data": {
      "text/plain": [
       "3"
      ]
     },
     "execution_count": 52,
     "metadata": {},
     "output_type": "execute_result"
    }
   ],
   "source": [
    "df['Geography'].nunique()"
   ]
  },
  {
   "cell_type": "code",
   "execution_count": 53,
   "id": "220fde45",
   "metadata": {},
   "outputs": [
    {
     "data": {
      "text/plain": [
       "3"
      ]
     },
     "execution_count": 53,
     "metadata": {},
     "output_type": "execute_result"
    }
   ],
   "source": [
    "df['Geography'].value_counts().size"
   ]
  },
  {
   "cell_type": "markdown",
   "id": "d7d1ebf2",
   "metadata": {},
   "source": [
    "### 22. Memory usage"
   ]
  },
  {
   "cell_type": "code",
   "execution_count": 54,
   "id": "72469ba4",
   "metadata": {},
   "outputs": [
    {
     "data": {
      "text/plain": [
       "Index              344080\n",
       "Geography           79848\n",
       "Gender              79848\n",
       "Age                 79848\n",
       "Tenure              79848\n",
       "Balance             79848\n",
       "NumOfProducts       79848\n",
       "HasCrCard           79848\n",
       "IsActiveMember      79848\n",
       "EstimatedSalary     79848\n",
       "Exited              79848\n",
       "dtype: int64"
      ]
     },
     "execution_count": 54,
     "metadata": {},
     "output_type": "execute_result"
    }
   ],
   "source": [
    "df.memory_usage()"
   ]
  },
  {
   "cell_type": "markdown",
   "id": "c622ac90",
   "metadata": {},
   "source": [
    "### 23. The category data type"
   ]
  },
  {
   "cell_type": "code",
   "execution_count": 55,
   "id": "1c20c25f",
   "metadata": {},
   "outputs": [],
   "source": [
    "df['Geography'] = df['Geography'].astype('category')"
   ]
  },
  {
   "cell_type": "code",
   "execution_count": 56,
   "id": "45bd39e1",
   "metadata": {},
   "outputs": [
    {
     "data": {
      "text/plain": [
       "Index              344080\n",
       "Geography           10113\n",
       "Gender              79848\n",
       "Age                 79848\n",
       "Tenure              79848\n",
       "Balance             79848\n",
       "NumOfProducts       79848\n",
       "HasCrCard           79848\n",
       "IsActiveMember      79848\n",
       "EstimatedSalary     79848\n",
       "Exited              79848\n",
       "dtype: int64"
      ]
     },
     "execution_count": 56,
     "metadata": {},
     "output_type": "execute_result"
    }
   ],
   "source": [
    "df.memory_usage()"
   ]
  },
  {
   "cell_type": "markdown",
   "id": "06f7e054",
   "metadata": {},
   "source": [
    "### 24. Replacing values"
   ]
  },
  {
   "cell_type": "code",
   "execution_count": 57,
   "id": "bf5b18ec",
   "metadata": {},
   "outputs": [
    {
     "data": {
      "text/plain": [
       "0     9\n",
       "1     4\n",
       "2     7\n",
       "3    B1\n",
       "4     0\n",
       "5     2\n",
       "Name: New_col, dtype: object"
      ]
     },
     "execution_count": 57,
     "metadata": {},
     "output_type": "execute_result"
    }
   ],
   "source": [
    "df_new['New_col'].replace(1,'B1')"
   ]
  },
  {
   "cell_type": "code",
   "execution_count": 58,
   "id": "b2443921",
   "metadata": {},
   "outputs": [
    {
     "data": {
      "text/plain": [
       "0     9\n",
       "1     4\n",
       "2     7\n",
       "3    B1\n",
       "4     0\n",
       "5     2\n",
       "Name: New_col, dtype: object"
      ]
     },
     "execution_count": 58,
     "metadata": {},
     "output_type": "execute_result"
    }
   ],
   "source": [
    "df_new['New_col'].replace({1:'B1',6:'B2'})"
   ]
  },
  {
   "cell_type": "markdown",
   "id": "71375750",
   "metadata": {},
   "source": [
    "### 25. Drawing a histogram"
   ]
  },
  {
   "cell_type": "code",
   "execution_count": 59,
   "id": "7907877f",
   "metadata": {},
   "outputs": [
    {
     "data": {
      "text/plain": [
       "<matplotlib.axes._subplots.AxesSubplot at 0x2398d820e08>"
      ]
     },
     "execution_count": 59,
     "metadata": {},
     "output_type": "execute_result"
    },
    {
     "data": {
      "image/png": "[encoded data removed]",
      "text/plain": [
       "<Figure size 720x432 with 1 Axes>"
      ]
     },
     "metadata": {
      "needs_background": "light"
     },
     "output_type": "display_data"
    }
   ],
   "source": [
    "df['Balance'].plot(kind='hist',figsize=(10,6))"
   ]
  },
  {
   "cell_type": "markdown",
   "id": "3909ea26",
   "metadata": {},
   "source": [
    "### 26. Reducing the decimal points of floats"
   ]
  },
  {
   "cell_type": "code",
   "execution_count": 60,
   "id": "32df8421",
   "metadata": {},
   "outputs": [
    {
     "data": {
      "text/html": [
       "<div>\n",
       "<style scoped>\n",
       "    .dataframe tbody tr th:only-of-type {\n",
       "        vertical-align: middle;\n",
       "    }\n",
       "\n",
       "    .dataframe tbody tr th {\n",
       "        vertical-align: top;\n",
       "    }\n",
       "\n",
       "    .dataframe thead th {\n",
       "        text-align: right;\n",
       "    }\n",
       "</style>\n",
       "<table border=\"1\" class=\"dataframe\">\n",
       "  <thead>\n",
       "    <tr style=\"text-align: right;\">\n",
       "      <th></th>\n",
       "      <th>Geography</th>\n",
       "      <th>Exited</th>\n",
       "      <th>Balance</th>\n",
       "      <th>New_col</th>\n",
       "      <th>rank</th>\n",
       "    </tr>\n",
       "  </thead>\n",
       "  <tbody>\n",
       "    <tr>\n",
       "      <th>0</th>\n",
       "      <td>France</td>\n",
       "      <td>0.0</td>\n",
       "      <td>60334.6</td>\n",
       "      <td>9</td>\n",
       "      <td>2</td>\n",
       "    </tr>\n",
       "    <tr>\n",
       "      <th>1</th>\n",
       "      <td>France</td>\n",
       "      <td>1.0</td>\n",
       "      <td>0.0</td>\n",
       "      <td>4</td>\n",
       "      <td>3</td>\n",
       "    </tr>\n",
       "    <tr>\n",
       "      <th>2</th>\n",
       "      <td>Germany</td>\n",
       "      <td>0.0</td>\n",
       "      <td>119428.9</td>\n",
       "      <td>7</td>\n",
       "      <td>1</td>\n",
       "    </tr>\n",
       "    <tr>\n",
       "      <th>3</th>\n",
       "      <td>Germany</td>\n",
       "      <td>1.0</td>\n",
       "      <td>0.0</td>\n",
       "      <td>1</td>\n",
       "      <td>4</td>\n",
       "    </tr>\n",
       "    <tr>\n",
       "      <th>4</th>\n",
       "      <td>Spain</td>\n",
       "      <td>0.0</td>\n",
       "      <td>0.0</td>\n",
       "      <td>0</td>\n",
       "      <td>5</td>\n",
       "    </tr>\n",
       "    <tr>\n",
       "      <th>5</th>\n",
       "      <td>Spain</td>\n",
       "      <td>1.0</td>\n",
       "      <td>0.0</td>\n",
       "      <td>2</td>\n",
       "      <td>6</td>\n",
       "    </tr>\n",
       "  </tbody>\n",
       "</table>\n",
       "</div>"
      ],
      "text/plain": [
       "  Geography  Exited   Balance  New_col  rank\n",
       "0    France     0.0   60334.6        9     2\n",
       "1    France     1.0       0.0        4     3\n",
       "2   Germany     0.0  119428.9        7     1\n",
       "3   Germany     1.0       0.0        1     4\n",
       "4     Spain     0.0       0.0        0     5\n",
       "5     Spain     1.0       0.0        2     6"
      ]
     },
     "execution_count": 60,
     "metadata": {},
     "output_type": "execute_result"
    }
   ],
   "source": [
    "df_new.round(1)"
   ]
  },
  {
   "cell_type": "code",
   "execution_count": 61,
   "id": "b67fb0ce",
   "metadata": {},
   "outputs": [
    {
     "data": {
      "text/html": [
       "<div>\n",
       "<style scoped>\n",
       "    .dataframe tbody tr th:only-of-type {\n",
       "        vertical-align: middle;\n",
       "    }\n",
       "\n",
       "    .dataframe tbody tr th {\n",
       "        vertical-align: top;\n",
       "    }\n",
       "\n",
       "    .dataframe thead th {\n",
       "        text-align: right;\n",
       "    }\n",
       "</style>\n",
       "<table border=\"1\" class=\"dataframe\">\n",
       "  <thead>\n",
       "    <tr style=\"text-align: right;\">\n",
       "      <th></th>\n",
       "      <th>Geography</th>\n",
       "      <th>Exited</th>\n",
       "      <th>Balance</th>\n",
       "      <th>New_col</th>\n",
       "      <th>rank</th>\n",
       "    </tr>\n",
       "  </thead>\n",
       "  <tbody>\n",
       "    <tr>\n",
       "      <th>0</th>\n",
       "      <td>France</td>\n",
       "      <td>0.0</td>\n",
       "      <td>60334.625257</td>\n",
       "      <td>9</td>\n",
       "      <td>2</td>\n",
       "    </tr>\n",
       "    <tr>\n",
       "      <th>1</th>\n",
       "      <td>France</td>\n",
       "      <td>1.0</td>\n",
       "      <td>0.000000</td>\n",
       "      <td>4</td>\n",
       "      <td>3</td>\n",
       "    </tr>\n",
       "    <tr>\n",
       "      <th>2</th>\n",
       "      <td>Germany</td>\n",
       "      <td>0.0</td>\n",
       "      <td>119428.939858</td>\n",
       "      <td>7</td>\n",
       "      <td>1</td>\n",
       "    </tr>\n",
       "    <tr>\n",
       "      <th>3</th>\n",
       "      <td>Germany</td>\n",
       "      <td>1.0</td>\n",
       "      <td>0.000000</td>\n",
       "      <td>1</td>\n",
       "      <td>4</td>\n",
       "    </tr>\n",
       "    <tr>\n",
       "      <th>4</th>\n",
       "      <td>Spain</td>\n",
       "      <td>0.0</td>\n",
       "      <td>0.000000</td>\n",
       "      <td>0</td>\n",
       "      <td>5</td>\n",
       "    </tr>\n",
       "    <tr>\n",
       "      <th>5</th>\n",
       "      <td>Spain</td>\n",
       "      <td>1.0</td>\n",
       "      <td>0.000000</td>\n",
       "      <td>2</td>\n",
       "      <td>6</td>\n",
       "    </tr>\n",
       "  </tbody>\n",
       "</table>\n",
       "</div>"
      ],
      "text/plain": [
       "  Geography  Exited        Balance  New_col  rank\n",
       "0    France     0.0   60334.625257        9     2\n",
       "1    France     1.0       0.000000        4     3\n",
       "2   Germany     0.0  119428.939858        7     1\n",
       "3   Germany     1.0       0.000000        1     4\n",
       "4     Spain     0.0       0.000000        0     5\n",
       "5     Spain     1.0       0.000000        2     6"
      ]
     },
     "execution_count": 61,
     "metadata": {},
     "output_type": "execute_result"
    }
   ],
   "source": [
    "df_new"
   ]
  },
  {
   "cell_type": "markdown",
   "id": "5b756ecd",
   "metadata": {},
   "source": [
    "### 27. Changing the display options\n"
   ]
  },
  {
   "cell_type": "code",
   "execution_count": 62,
   "id": "6dab9b2f",
   "metadata": {},
   "outputs": [],
   "source": [
    "pd.set_option(\"display.precision\", 2)"
   ]
  },
  {
   "cell_type": "code",
   "execution_count": 63,
   "id": "331bcb61",
   "metadata": {},
   "outputs": [
    {
     "data": {
      "text/html": [
       "<div>\n",
       "<style scoped>\n",
       "    .dataframe tbody tr th:only-of-type {\n",
       "        vertical-align: middle;\n",
       "    }\n",
       "\n",
       "    .dataframe tbody tr th {\n",
       "        vertical-align: top;\n",
       "    }\n",
       "\n",
       "    .dataframe thead th {\n",
       "        text-align: right;\n",
       "    }\n",
       "</style>\n",
       "<table border=\"1\" class=\"dataframe\">\n",
       "  <thead>\n",
       "    <tr style=\"text-align: right;\">\n",
       "      <th></th>\n",
       "      <th>Geography</th>\n",
       "      <th>Exited</th>\n",
       "      <th>Balance</th>\n",
       "      <th>New_col</th>\n",
       "      <th>rank</th>\n",
       "    </tr>\n",
       "  </thead>\n",
       "  <tbody>\n",
       "    <tr>\n",
       "      <th>0</th>\n",
       "      <td>France</td>\n",
       "      <td>0.0</td>\n",
       "      <td>60334.63</td>\n",
       "      <td>9</td>\n",
       "      <td>2</td>\n",
       "    </tr>\n",
       "    <tr>\n",
       "      <th>1</th>\n",
       "      <td>France</td>\n",
       "      <td>1.0</td>\n",
       "      <td>0.00</td>\n",
       "      <td>4</td>\n",
       "      <td>3</td>\n",
       "    </tr>\n",
       "    <tr>\n",
       "      <th>2</th>\n",
       "      <td>Germany</td>\n",
       "      <td>0.0</td>\n",
       "      <td>119428.94</td>\n",
       "      <td>7</td>\n",
       "      <td>1</td>\n",
       "    </tr>\n",
       "    <tr>\n",
       "      <th>3</th>\n",
       "      <td>Germany</td>\n",
       "      <td>1.0</td>\n",
       "      <td>0.00</td>\n",
       "      <td>1</td>\n",
       "      <td>4</td>\n",
       "    </tr>\n",
       "    <tr>\n",
       "      <th>4</th>\n",
       "      <td>Spain</td>\n",
       "      <td>0.0</td>\n",
       "      <td>0.00</td>\n",
       "      <td>0</td>\n",
       "      <td>5</td>\n",
       "    </tr>\n",
       "    <tr>\n",
       "      <th>5</th>\n",
       "      <td>Spain</td>\n",
       "      <td>1.0</td>\n",
       "      <td>0.00</td>\n",
       "      <td>2</td>\n",
       "      <td>6</td>\n",
       "    </tr>\n",
       "  </tbody>\n",
       "</table>\n",
       "</div>"
      ],
      "text/plain": [
       "  Geography  Exited    Balance  New_col  rank\n",
       "0    France     0.0   60334.63        9     2\n",
       "1    France     1.0       0.00        4     3\n",
       "2   Germany     0.0  119428.94        7     1\n",
       "3   Germany     1.0       0.00        1     4\n",
       "4     Spain     0.0       0.00        0     5\n",
       "5     Spain     1.0       0.00        2     6"
      ]
     },
     "execution_count": 63,
     "metadata": {},
     "output_type": "execute_result"
    }
   ],
   "source": [
    "df_new"
   ]
  },
  {
   "cell_type": "markdown",
   "id": "af723326",
   "metadata": {},
   "source": [
    "### 28. Calculating the percentage change through a column\n"
   ]
  },
  {
   "cell_type": "code",
   "execution_count": 64,
   "id": "a526712c",
   "metadata": {},
   "outputs": [
    {
     "data": {
      "text/plain": [
       "0      NaN\n",
       "1     0.25\n",
       "2     0.20\n",
       "3     0.00\n",
       "4     0.17\n",
       "5     0.00\n",
       "6     0.14\n",
       "7    -0.12\n",
       "8    32.43\n",
       "9    -0.85\n",
       "dtype: float64"
      ]
     },
     "execution_count": 64,
     "metadata": {},
     "output_type": "execute_result"
    }
   ],
   "source": [
    "ser = pd.Series([4,5,6,6,7,7,8,7,234,34])\n",
    "ser.pct_change()\n",
    "#It is useful when calculating the percentage of change in a time series or sequential array of elements."
   ]
  },
  {
   "cell_type": "markdown",
   "id": "3a4e641e",
   "metadata": {},
   "source": [
    "### 29. Filtering based on strings\n"
   ]
  },
  {
   "cell_type": "code",
   "execution_count": 65,
   "id": "7426fd8c",
   "metadata": {},
   "outputs": [],
   "source": [
    "df_new['Names'] = ['Jack','Julia','Mike','Michael','Tim','Amber']"
   ]
  },
  {
   "cell_type": "code",
   "execution_count": 66,
   "id": "1686dade",
   "metadata": {},
   "outputs": [
    {
     "data": {
      "text/html": [
       "<div>\n",
       "<style scoped>\n",
       "    .dataframe tbody tr th:only-of-type {\n",
       "        vertical-align: middle;\n",
       "    }\n",
       "\n",
       "    .dataframe tbody tr th {\n",
       "        vertical-align: top;\n",
       "    }\n",
       "\n",
       "    .dataframe thead th {\n",
       "        text-align: right;\n",
       "    }\n",
       "</style>\n",
       "<table border=\"1\" class=\"dataframe\">\n",
       "  <thead>\n",
       "    <tr style=\"text-align: right;\">\n",
       "      <th></th>\n",
       "      <th>Geography</th>\n",
       "      <th>Exited</th>\n",
       "      <th>Balance</th>\n",
       "      <th>New_col</th>\n",
       "      <th>rank</th>\n",
       "      <th>Names</th>\n",
       "    </tr>\n",
       "  </thead>\n",
       "  <tbody>\n",
       "    <tr>\n",
       "      <th>2</th>\n",
       "      <td>Germany</td>\n",
       "      <td>0.0</td>\n",
       "      <td>119428.94</td>\n",
       "      <td>7</td>\n",
       "      <td>1</td>\n",
       "      <td>Mike</td>\n",
       "    </tr>\n",
       "    <tr>\n",
       "      <th>3</th>\n",
       "      <td>Germany</td>\n",
       "      <td>1.0</td>\n",
       "      <td>0.00</td>\n",
       "      <td>1</td>\n",
       "      <td>4</td>\n",
       "      <td>Michael</td>\n",
       "    </tr>\n",
       "  </tbody>\n",
       "</table>\n",
       "</div>"
      ],
      "text/plain": [
       "  Geography  Exited    Balance  New_col  rank    Names\n",
       "2   Germany     0.0  119428.94        7     1     Mike\n",
       "3   Germany     1.0       0.00        1     4  Michael"
      ]
     },
     "execution_count": 66,
     "metadata": {},
     "output_type": "execute_result"
    }
   ],
   "source": [
    "df_new[df_new.Names.str.startswith('Mi')]"
   ]
  },
  {
   "cell_type": "markdown",
   "id": "8385bfe8",
   "metadata": {},
   "source": [
    "### 30. Styling a dataframe\n"
   ]
  },
  {
   "cell_type": "code",
   "execution_count": 71,
   "id": "82cd7ea7",
   "metadata": {},
   "outputs": [
    {
     "data": {
      "text/html": [
       "<style  type=\"text/css\" >\n",
       "#T_f3c90_row0_col3,#T_f3c90_row1_col1,#T_f3c90_row2_col2,#T_f3c90_row3_col1,#T_f3c90_row5_col1,#T_f3c90_row5_col4{\n",
       "            background-color:  lightgreen;\n",
       "        }</style><table id=\"T_f3c90_\" ><thead>    <tr>        <th class=\"blank level0\" ></th>        <th class=\"col_heading level0 col0\" >Geography</th>        <th class=\"col_heading level0 col1\" >Exited</th>        <th class=\"col_heading level0 col2\" >Balance</th>        <th class=\"col_heading level0 col3\" >New_col</th>        <th class=\"col_heading level0 col4\" >rank</th>        <th class=\"col_heading level0 col5\" >Names</th>    </tr></thead><tbody>\n",
       "                <tr>\n",
       "                        <th id=\"T_f3c90_level0_row0\" class=\"row_heading level0 row0\" >0</th>\n",
       "                        <td id=\"T_f3c90_row0_col0\" class=\"data row0 col0\" >France</td>\n",
       "                        <td id=\"T_f3c90_row0_col1\" class=\"data row0 col1\" >0.00</td>\n",
       "                        <td id=\"T_f3c90_row0_col2\" class=\"data row0 col2\" >60334.63</td>\n",
       "                        <td id=\"T_f3c90_row0_col3\" class=\"data row0 col3\" >9</td>\n",
       "                        <td id=\"T_f3c90_row0_col4\" class=\"data row0 col4\" >2</td>\n",
       "                        <td id=\"T_f3c90_row0_col5\" class=\"data row0 col5\" >Jack</td>\n",
       "            </tr>\n",
       "            <tr>\n",
       "                        <th id=\"T_f3c90_level0_row1\" class=\"row_heading level0 row1\" >1</th>\n",
       "                        <td id=\"T_f3c90_row1_col0\" class=\"data row1 col0\" >France</td>\n",
       "                        <td id=\"T_f3c90_row1_col1\" class=\"data row1 col1\" >1.00</td>\n",
       "                        <td id=\"T_f3c90_row1_col2\" class=\"data row1 col2\" >0.00</td>\n",
       "                        <td id=\"T_f3c90_row1_col3\" class=\"data row1 col3\" >4</td>\n",
       "                        <td id=\"T_f3c90_row1_col4\" class=\"data row1 col4\" >3</td>\n",
       "                        <td id=\"T_f3c90_row1_col5\" class=\"data row1 col5\" >Julia</td>\n",
       "            </tr>\n",
       "            <tr>\n",
       "                        <th id=\"T_f3c90_level0_row2\" class=\"row_heading level0 row2\" >2</th>\n",
       "                        <td id=\"T_f3c90_row2_col0\" class=\"data row2 col0\" >Germany</td>\n",
       "                        <td id=\"T_f3c90_row2_col1\" class=\"data row2 col1\" >0.00</td>\n",
       "                        <td id=\"T_f3c90_row2_col2\" class=\"data row2 col2\" >119428.94</td>\n",
       "                        <td id=\"T_f3c90_row2_col3\" class=\"data row2 col3\" >7</td>\n",
       "                        <td id=\"T_f3c90_row2_col4\" class=\"data row2 col4\" >1</td>\n",
       "                        <td id=\"T_f3c90_row2_col5\" class=\"data row2 col5\" >Mike</td>\n",
       "            </tr>\n",
       "            <tr>\n",
       "                        <th id=\"T_f3c90_level0_row3\" class=\"row_heading level0 row3\" >3</th>\n",
       "                        <td id=\"T_f3c90_row3_col0\" class=\"data row3 col0\" >Germany</td>\n",
       "                        <td id=\"T_f3c90_row3_col1\" class=\"data row3 col1\" >1.00</td>\n",
       "                        <td id=\"T_f3c90_row3_col2\" class=\"data row3 col2\" >0.00</td>\n",
       "                        <td id=\"T_f3c90_row3_col3\" class=\"data row3 col3\" >1</td>\n",
       "                        <td id=\"T_f3c90_row3_col4\" class=\"data row3 col4\" >4</td>\n",
       "                        <td id=\"T_f3c90_row3_col5\" class=\"data row3 col5\" >Michael</td>\n",
       "            </tr>\n",
       "            <tr>\n",
       "                        <th id=\"T_f3c90_level0_row4\" class=\"row_heading level0 row4\" >4</th>\n",
       "                        <td id=\"T_f3c90_row4_col0\" class=\"data row4 col0\" >Spain</td>\n",
       "                        <td id=\"T_f3c90_row4_col1\" class=\"data row4 col1\" >0.00</td>\n",
       "                        <td id=\"T_f3c90_row4_col2\" class=\"data row4 col2\" >0.00</td>\n",
       "                        <td id=\"T_f3c90_row4_col3\" class=\"data row4 col3\" >0</td>\n",
       "                        <td id=\"T_f3c90_row4_col4\" class=\"data row4 col4\" >5</td>\n",
       "                        <td id=\"T_f3c90_row4_col5\" class=\"data row4 col5\" >Tim</td>\n",
       "            </tr>\n",
       "            <tr>\n",
       "                        <th id=\"T_f3c90_level0_row5\" class=\"row_heading level0 row5\" >5</th>\n",
       "                        <td id=\"T_f3c90_row5_col0\" class=\"data row5 col0\" >Spain</td>\n",
       "                        <td id=\"T_f3c90_row5_col1\" class=\"data row5 col1\" >1.00</td>\n",
       "                        <td id=\"T_f3c90_row5_col2\" class=\"data row5 col2\" >0.00</td>\n",
       "                        <td id=\"T_f3c90_row5_col3\" class=\"data row5 col3\" >2</td>\n",
       "                        <td id=\"T_f3c90_row5_col4\" class=\"data row5 col4\" >6</td>\n",
       "                        <td id=\"T_f3c90_row5_col5\" class=\"data row5 col5\" >Amber</td>\n",
       "            </tr>\n",
       "    </tbody></table>"
      ],
      "text/plain": [
       "<pandas.io.formats.style.Styler at 0x2398d9e2d48>"
      ]
     },
     "execution_count": 71,
     "metadata": {},
     "output_type": "execute_result"
    }
   ],
   "source": [
    "df_new.style.highlight_max(axis=0, color='lightgreen')"
   ]
  },
  {
   "cell_type": "code",
   "execution_count": null,
   "id": "e05c7b74",
   "metadata": {},
   "outputs": [],
   "source": []
  }
 ],
 "metadata": {
  "kernelspec": {
   "display_name": "Python 3",
   "language": "python",
   "name": "python3"
  },
  "language_info": {
   "codemirror_mode": {
    "name": "ipython",
    "version": 3
   },
   "file_extension": ".py",
   "mimetype": "text/x-python",
   "name": "python",
   "nbconvert_exporter": "python",
   "pygments_lexer": "ipython3",
   "version": "3.7.10"
  }
 },
 "nbformat": 4,
 "nbformat_minor": 5
}
